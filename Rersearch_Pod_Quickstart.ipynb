{
  "nbformat": 4,
  "nbformat_minor": 0,
  "metadata": {
    "colab": {
      "name": "Rersearch Pod Quickstart.ipynb",
      "provenance": [],
      "authorship_tag": "ABX9TyOE7epaLDg3ii5sZmdZJrJC",
      "include_colab_link": true
    },
    "kernelspec": {
      "name": "ir",
      "display_name": "R"
    }
  },
  "cells": [
    {
      "cell_type": "markdown",
      "metadata": {
        "id": "view-in-github",
        "colab_type": "text"
      },
      "source": [
        "<a href=\"https://colab.research.google.com/github/RWLab/rwRtools/blob/master/Rersearch_Pod_Quickstart.ipynb\" target=\"_parent\"><img src=\"https://colab.research.google.com/assets/colab-badge.svg\" alt=\"Open In Colab\"/></a>"
      ]
    },
    {
      "cell_type": "markdown",
      "metadata": {
        "id": "mi7tMoMx3Xmg"
      },
      "source": [
        "# Quickstart Guide - Setting up For Working on a Research Pod\n"
      ]
    },
    {
      "cell_type": "markdown",
      "metadata": {
        "id": "WsCHNy6k3hzA"
      },
      "source": [
        "## Install `rwRtools` and depedencies\n",
        "\n",
        "Simplest way is to use `pacman`:"
      ]
    },
    {
      "cell_type": "code",
      "metadata": {
        "id": "UFgIZelK3qUC",
        "outputId": "1f712910-6785-438e-da67-2586c9616d00",
        "colab": {
          "base_uri": "https://localhost:8080/",
          "height": 408
        }
      },
      "source": [
        "if(!require(\"pacman\")) install.packages(\"pacman\")\n",
        "pacman::p_load_gh(\"RWLab/rwRtools\", dependencies = TRUE)"
      ],
      "execution_count": 1,
      "outputs": [
        {
          "output_type": "stream",
          "text": [
            "Loading required package: pacman\n",
            "\n",
            "Warning message in library(package, lib.loc = lib.loc, character.only = TRUE, logical.return = TRUE, :\n",
            "“there is no package called ‘pacman’”\n",
            "Installing package into ‘/usr/local/lib/R/site-library’\n",
            "(as ‘lib’ is unspecified)\n",
            "\n"
          ],
          "name": "stderr"
        },
        {
          "output_type": "stream",
          "text": [
            "callr        (3.5.0  -> 3.5.1 ) [CRAN]\n",
            "R.methodsS3  (NA     -> 1.8.1 ) [CRAN]\n",
            "gargle       (NA     -> 0.5.0 ) [CRAN]\n",
            "digest       (0.6.25 -> 0.6.27) [CRAN]\n",
            "R.oo         (NA     -> 1.24.0) [CRAN]\n",
            "zip          (NA     -> 2.1.1 ) [CRAN]\n",
            "googleAuthR  (NA     -> 1.3.0 ) [CRAN]\n",
            "R.utils      (NA     -> 2.10.1) [CRAN]\n",
            "googleClo... (NA     -> 0.5.1 ) [CRAN]\n",
            "\u001b[32m✔\u001b[39m  \u001b[90mchecking for file ‘/tmp/RtmpWPyQ5w/remotes6831d1db34/RWLab-rwRtools-846c10c/DESCRIPTION’\u001b[39m\u001b[36m\u001b[39m\n",
            "\u001b[90m─\u001b[39m\u001b[90m  \u001b[39m\u001b[90mpreparing ‘rwRtools’:\u001b[39m\u001b[36m\u001b[39m\n",
            "\u001b[32m✔\u001b[39m  \u001b[90mchecking DESCRIPTION meta-information\u001b[39m\u001b[36m\u001b[39m\n",
            "\u001b[90m─\u001b[39m\u001b[90m  \u001b[39m\u001b[90mchecking for LF line-endings in source and make files and shell scripts\u001b[39m\u001b[36m\u001b[39m\n",
            "\u001b[90m─\u001b[39m\u001b[90m  \u001b[39m\u001b[90mchecking for empty or unneeded directories\u001b[39m\u001b[36m\u001b[39m\n",
            "\u001b[90m─\u001b[39m\u001b[90m  \u001b[39m\u001b[90mbuilding ‘rwRtools_0.0.0.9000.tar.gz’\u001b[39m\u001b[36m\u001b[39m\n",
            "   \n"
          ],
          "name": "stdout"
        }
      ]
    },
    {
      "cell_type": "markdown",
      "metadata": {
        "id": "Wb5aTt9S3rPT"
      },
      "source": [
        "After installing and loading rwRtools, this is the quickest way to set up a session for working on a particular Research Pod. \n",
        "\n",
        "To use this approach, you need to know the name of the Research Pod. You can get the names of all active Pods by doing `rwRtools::list_pods()`:\n"
      ]
    },
    {
      "cell_type": "code",
      "metadata": {
        "id": "eoKCLkZH368v",
        "outputId": "f5910bc3-81ac-4e5d-cd57-808737f780f7",
        "colab": {
          "base_uri": "https://localhost:8080/",
          "height": 34
        }
      },
      "source": [
        "list_pods()"
      ],
      "execution_count": 2,
      "outputs": [
        {
          "output_type": "display_data",
          "data": {
            "text/plain": [
              "[1] \"EquityFactors\""
            ],
            "text/latex": "'EquityFactors'",
            "text/markdown": "'EquityFactors'",
            "text/html": [
              "'EquityFactors'"
            ]
          },
          "metadata": {
            "tags": []
          }
        }
      ]
    },
    {
      "cell_type": "code",
      "metadata": {
        "id": "NPp6YSFy4ABQ"
      },
      "source": [
        "setup_for_pod(pod = \"EquityFactors\", path = \".\")"
      ],
      "execution_count": null,
      "outputs": []
    },
    {
      "cell_type": "markdown",
      "metadata": {
        "id": "g9e2gy6s4Hss"
      },
      "source": [
        "## Verify that Research Pod objects have been transferred from cloud storage:"
      ]
    },
    {
      "cell_type": "code",
      "metadata": {
        "id": "8U8hhSsJ4A_y",
        "outputId": "cdbc76fa-dd9d-45d7-86f1-d069cb166238",
        "colab": {
          "base_uri": "https://localhost:8080/",
          "height": 34
        }
      },
      "source": [
        "list.files()"
      ],
      "execution_count": 4,
      "outputs": [
        {
          "output_type": "display_data",
          "data": {
            "text/plain": [
              "[1] \"clean_R1000.csv\"  \"fundamentals.csv\" \"sample_data\"     "
            ],
            "text/latex": "\\begin{enumerate*}\n\\item 'clean\\_R1000.csv'\n\\item 'fundamentals.csv'\n\\item 'sample\\_data'\n\\end{enumerate*}\n",
            "text/markdown": "1. 'clean_R1000.csv'\n2. 'fundamentals.csv'\n3. 'sample_data'\n\n\n",
            "text/html": [
              "<style>\n",
              ".list-inline {list-style: none; margin:0; padding: 0}\n",
              ".list-inline>li {display: inline-block}\n",
              ".list-inline>li:not(:last-child)::after {content: \"\\00b7\"; padding: 0 .5ex}\n",
              "</style>\n",
              "<ol class=list-inline><li>'clean_R1000.csv'</li><li>'fundamentals.csv'</li><li>'sample_data'</li></ol>\n"
            ]
          },
          "metadata": {
            "tags": []
          }
        }
      ]
    }
  ]
}