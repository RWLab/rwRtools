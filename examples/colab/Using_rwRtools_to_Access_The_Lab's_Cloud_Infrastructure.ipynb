{
  "nbformat": 4,
  "nbformat_minor": 0,
  "metadata": {
    "colab": {
      "name": "Using rwRtools to Access The Lab's Cloud Infrastructure.ipynb",
      "provenance": [],
      "authorship_tag": "ABX9TyPKuGeAc+L77Vw25IiAGlMn",
      "include_colab_link": true
    },
    "kernelspec": {
      "name": "ir",
      "display_name": "R"
    }
  },
  "cells": [
    {
      "cell_type": "markdown",
      "metadata": {
        "id": "view-in-github",
        "colab_type": "text"
      },
      "source": [
        "<a href=\"https://colab.research.google.com/github/RWLab/rwRtools/blob/master/Using_rwRtools_to_Access_The_Lab's_Cloud_Infrastructure.ipynb\" target=\"_parent\"><img src=\"https://colab.research.google.com/assets/colab-badge.svg\" alt=\"Open In Colab\"/></a>"
      ]
    },
    {
      "cell_type": "markdown",
      "metadata": {
        "id": "7wVDCRny1FGJ"
      },
      "source": [
        "# Using rwRtools to Access The Lab's Cloud Infrastructure"
      ]
    },
    {
      "cell_type": "markdown",
      "metadata": {
        "id": "3bMLlio-1R-R"
      },
      "source": [
        "## Install and load rwRtools and dependecies\n",
        "\n",
        "Simplest way is to use the `pacman` package. "
      ]
    },
    {
      "cell_type": "code",
      "metadata": {
        "id": "0kMT9NO4jMna",
        "outputId": "6e136293-1da1-482b-d17e-21f477d454ec",
        "colab": {
          "base_uri": "https://localhost:8080/",
          "height": 408
        }
      },
      "source": [
        "# install and load required packages inc. dependencies\n",
        "if(!require(\"pacman\")) install.packages(\"pacman\")\n",
        "pacman::p_load_gh(\"RWLab/rwRtools\", dependencies = TRUE)"
      ],
      "execution_count": 1,
      "outputs": [
        {
          "output_type": "stream",
          "text": [
            "Loading required package: pacman\n",
            "\n",
            "Warning message in library(package, lib.loc = lib.loc, character.only = TRUE, logical.return = TRUE, :\n",
            "“there is no package called ‘pacman’”\n",
            "Installing package into ‘/usr/local/lib/R/site-library’\n",
            "(as ‘lib’ is unspecified)\n",
            "\n"
          ],
          "name": "stderr"
        },
        {
          "output_type": "stream",
          "text": [
            "callr        (3.5.0  -> 3.5.1 ) [CRAN]\n",
            "R.methodsS3  (NA     -> 1.8.1 ) [CRAN]\n",
            "gargle       (NA     -> 0.5.0 ) [CRAN]\n",
            "digest       (0.6.25 -> 0.6.27) [CRAN]\n",
            "R.oo         (NA     -> 1.24.0) [CRAN]\n",
            "zip          (NA     -> 2.1.1 ) [CRAN]\n",
            "googleAuthR  (NA     -> 1.3.0 ) [CRAN]\n",
            "R.utils      (NA     -> 2.10.1) [CRAN]\n",
            "googleClo... (NA     -> 0.5.1 ) [CRAN]\n",
            "\u001b[32m✔\u001b[39m  \u001b[90mchecking for file ‘/tmp/RtmpY0P3WC/remotes67161fd63b/RWLab-rwRtools-0bbe76d/DESCRIPTION’\u001b[39m\u001b[36m\u001b[39m\n",
            "\u001b[90m─\u001b[39m\u001b[90m  \u001b[39m\u001b[90mpreparing ‘rwRtools’:\u001b[39m\u001b[36m\u001b[39m\n",
            "\u001b[32m✔\u001b[39m  \u001b[90mchecking DESCRIPTION meta-information\u001b[39m\u001b[36m\u001b[39m\n",
            "\u001b[90m─\u001b[39m\u001b[90m  \u001b[39m\u001b[90mchecking for LF line-endings in source and make files and shell scripts\u001b[39m\u001b[36m\u001b[39m\n",
            "\u001b[90m─\u001b[39m\u001b[90m  \u001b[39m\u001b[90mchecking for empty or unneeded directories\u001b[39m\u001b[36m\u001b[39m\n",
            "\u001b[90m─\u001b[39m\u001b[90m  \u001b[39m\u001b[90mbuilding ‘rwRtools_0.0.0.9000.tar.gz’\u001b[39m\u001b[36m\u001b[39m\n",
            "   \n"
          ],
          "name": "stdout"
        }
      ]
    },
    {
      "cell_type": "markdown",
      "metadata": {
        "id": "vQasnskhyjQJ"
      },
      "source": [
        "## Authorise to RW Lab cloud infrastructure"
      ]
    },
    {
      "cell_type": "code",
      "metadata": {
        "id": "fKjuKivPyaq6"
      },
      "source": [
        "rwlab_gc_auth()"
      ],
      "execution_count": null,
      "outputs": []
    },
    {
      "cell_type": "markdown",
      "metadata": {
        "id": "iZORVUyMyvLB"
      },
      "source": [
        "## List active Research Pods"
      ]
    },
    {
      "cell_type": "code",
      "metadata": {
        "id": "rIYRBKFTx7q_",
        "outputId": "a5804a3b-f5af-44dd-cc0b-e7f413a20179",
        "colab": {
          "base_uri": "https://localhost:8080/",
          "height": 34
        }
      },
      "source": [
        "list_pods()"
      ],
      "execution_count": 3,
      "outputs": [
        {
          "output_type": "display_data",
          "data": {
            "text/plain": [
              "[1] \"EquityFactors\""
            ],
            "text/latex": "'EquityFactors'",
            "text/markdown": "'EquityFactors'",
            "text/html": [
              "'EquityFactors'"
            ]
          },
          "metadata": {
            "tags": []
          }
        }
      ]
    },
    {
      "cell_type": "markdown",
      "metadata": {
        "id": "i5tprKZhzFo-"
      },
      "source": [
        "## List cloud objects associated with a Research Pod"
      ]
    },
    {
      "cell_type": "code",
      "metadata": {
        "id": "B3TxRHgJ_RvE",
        "outputId": "c851722d-cd6f-47b8-c0f5-f5ac5da30922",
        "colab": {
          "base_uri": "https://localhost:8080/",
          "height": 113
        }
      },
      "source": [
        "get_pod_meta(pod = \"EquityFactors\")"
      ],
      "execution_count": 4,
      "outputs": [
        {
          "output_type": "display_data",
          "data": {
            "text/plain": [
              "$bucket\n",
              "[1] \"rw_equity_research_sprint\"\n",
              "\n",
              "$datasets\n",
              "[1] \"clean_R1000.csv\"  \"fundamentals.csv\"\n"
            ],
            "text/latex": "\\begin{description}\n\\item[\\$bucket] 'rw\\_equity\\_research\\_sprint'\n\\item[\\$datasets] \\begin{enumerate*}\n\\item 'clean\\_R1000.csv'\n\\item 'fundamentals.csv'\n\\end{enumerate*}\n\n\\end{description}\n",
            "text/markdown": "$bucket\n:   'rw_equity_research_sprint'\n$datasets\n:   1. 'clean_R1000.csv'\n2. 'fundamentals.csv'\n\n\n\n\n\n",
            "text/html": [
              "<dl>\n",
              "\t<dt>$bucket</dt>\n",
              "\t\t<dd>'rw_equity_research_sprint'</dd>\n",
              "\t<dt>$datasets</dt>\n",
              "\t\t<dd><style>\n",
              ".list-inline {list-style: none; margin:0; padding: 0}\n",
              ".list-inline>li {display: inline-block}\n",
              ".list-inline>li:not(:last-child)::after {content: \"\\00b7\"; padding: 0 .5ex}\n",
              "</style>\n",
              "<ol class=list-inline><li>'clean_R1000.csv'</li><li>'fundamentals.csv'</li></ol>\n",
              "</dd>\n",
              "</dl>\n"
            ]
          },
          "metadata": {
            "tags": []
          }
        }
      ]
    },
    {
      "cell_type": "markdown",
      "metadata": {
        "id": "1smBWEk1zUkt"
      },
      "source": [
        "## Transfer Pod objects from GCS to local"
      ]
    },
    {
      "cell_type": "code",
      "metadata": {
        "id": "snyZbJU0Hfsf",
        "outputId": "3ecdf7ec-f31a-4a61-a44c-37d508ed8ab8",
        "colab": {
          "base_uri": "https://localhost:8080/",
          "height": 221
        }
      },
      "source": [
        "load_pod_data(\"EquityFactors\")"
      ],
      "execution_count": 5,
      "outputs": [
        {
          "output_type": "stream",
          "text": [
            "Set default bucket name to 'rw_equity_research_sprint'\n",
            "\n"
          ],
          "name": "stderr"
        },
        {
          "output_type": "stream",
          "text": [
            "Attempting download of  clean_R1000.csv fundamentals.csv ...\n",
            "Transferring clean_R1000.csv ... data is 874 Mb please be patient...\n"
          ],
          "name": "stdout"
        },
        {
          "output_type": "stream",
          "text": [
            "2020-10-26 02:54:08 -- Saved clean_R1000.csv to ./clean_R1000.csv (874 Mb)\n",
            "\n"
          ],
          "name": "stderr"
        },
        {
          "output_type": "stream",
          "text": [
            "clean_R1000.csv successfully transferred\n",
            "Transferring fundamentals.csv ... data is 360.6 Mb please be patient...\n"
          ],
          "name": "stdout"
        },
        {
          "output_type": "stream",
          "text": [
            "2020-10-26 02:54:09 -- Saved fundamentals.csv to ./fundamentals.csv (360.6 Mb)\n",
            "\n"
          ],
          "name": "stderr"
        },
        {
          "output_type": "stream",
          "text": [
            "fundamentals.csv successfully transferred\n"
          ],
          "name": "stdout"
        },
        {
          "output_type": "display_data",
          "data": {
            "text/plain": [
              "[1] TRUE"
            ],
            "text/latex": "TRUE",
            "text/markdown": "TRUE",
            "text/html": [
              "TRUE"
            ]
          },
          "metadata": {
            "tags": []
          }
        }
      ]
    },
    {
      "cell_type": "markdown",
      "metadata": {
        "id": "T0mOJwI_zh30"
      },
      "source": [
        "## Verify Research Pod objects exist locally"
      ]
    },
    {
      "cell_type": "code",
      "metadata": {
        "id": "Lz3uAMsbHmw1",
        "outputId": "e98d9e1e-e19e-4c44-cec7-cd3abe7f8a0d",
        "colab": {
          "base_uri": "https://localhost:8080/",
          "height": 34
        }
      },
      "source": [
        "list.files()"
      ],
      "execution_count": 6,
      "outputs": [
        {
          "output_type": "display_data",
          "data": {
            "text/plain": [
              "[1] \"clean_R1000.csv\"  \"fundamentals.csv\" \"sample_data\"     "
            ],
            "text/latex": "\\begin{enumerate*}\n\\item 'clean\\_R1000.csv'\n\\item 'fundamentals.csv'\n\\item 'sample\\_data'\n\\end{enumerate*}\n",
            "text/markdown": "1. 'clean_R1000.csv'\n2. 'fundamentals.csv'\n3. 'sample_data'\n\n\n",
            "text/html": [
              "<style>\n",
              ".list-inline {list-style: none; margin:0; padding: 0}\n",
              ".list-inline>li {display: inline-block}\n",
              ".list-inline>li:not(:last-child)::after {content: \"\\00b7\"; padding: 0 .5ex}\n",
              "</style>\n",
              "<ol class=list-inline><li>'clean_R1000.csv'</li><li>'fundamentals.csv'</li><li>'sample_data'</li></ol>\n"
            ]
          },
          "metadata": {
            "tags": []
          }
        }
      ]
    },
    {
      "cell_type": "markdown",
      "metadata": {
        "id": "H11Hjc1eznE5"
      },
      "source": [
        "## Reload a Pod object"
      ]
    },
    {
      "cell_type": "code",
      "metadata": {
        "id": "MtweuyeCzvBE",
        "outputId": "245a9816-24be-4335-d601-9ba9ea497944",
        "colab": {
          "base_uri": "https://localhost:8080/",
          "height": 113
        }
      },
      "source": [
        "get_pod_meta(\"EquityFactors\")"
      ],
      "execution_count": 7,
      "outputs": [
        {
          "output_type": "display_data",
          "data": {
            "text/plain": [
              "$bucket\n",
              "[1] \"rw_equity_research_sprint\"\n",
              "\n",
              "$datasets\n",
              "[1] \"clean_R1000.csv\"  \"fundamentals.csv\"\n"
            ],
            "text/latex": "\\begin{description}\n\\item[\\$bucket] 'rw\\_equity\\_research\\_sprint'\n\\item[\\$datasets] \\begin{enumerate*}\n\\item 'clean\\_R1000.csv'\n\\item 'fundamentals.csv'\n\\end{enumerate*}\n\n\\end{description}\n",
            "text/markdown": "$bucket\n:   'rw_equity_research_sprint'\n$datasets\n:   1. 'clean_R1000.csv'\n2. 'fundamentals.csv'\n\n\n\n\n\n",
            "text/html": [
              "<dl>\n",
              "\t<dt>$bucket</dt>\n",
              "\t\t<dd>'rw_equity_research_sprint'</dd>\n",
              "\t<dt>$datasets</dt>\n",
              "\t\t<dd><style>\n",
              ".list-inline {list-style: none; margin:0; padding: 0}\n",
              ".list-inline>li {display: inline-block}\n",
              ".list-inline>li:not(:last-child)::after {content: \"\\00b7\"; padding: 0 .5ex}\n",
              "</style>\n",
              "<ol class=list-inline><li>'clean_R1000.csv'</li><li>'fundamentals.csv'</li></ol>\n",
              "</dd>\n",
              "</dl>\n"
            ]
          },
          "metadata": {
            "tags": []
          }
        }
      ]
    },
    {
      "cell_type": "code",
      "metadata": {
        "id": "jwavOZ7Bz8sS",
        "outputId": "e7b17e5c-0ac4-4d02-8bc0-2ee7b674afff",
        "colab": {
          "base_uri": "https://localhost:8080/",
          "height": 85
        }
      },
      "source": [
        "load_lab_object(path = \".\", object = \"clean_R1000.csv\", bucket = \"rw_equity_research_sprint\")"
      ],
      "execution_count": 8,
      "outputs": [
        {
          "output_type": "stream",
          "text": [
            "2020-10-26 02:54:27 -- Saved clean_R1000.csv to ./clean_R1000.csv (874 Mb)\n",
            "\n"
          ],
          "name": "stderr"
        },
        {
          "output_type": "stream",
          "text": [
            "File successfully transferred\n"
          ],
          "name": "stdout"
        },
        {
          "output_type": "display_data",
          "data": {
            "text/plain": [
              "[1] TRUE"
            ],
            "text/latex": "TRUE",
            "text/markdown": "TRUE",
            "text/html": [
              "TRUE"
            ]
          },
          "metadata": {
            "tags": []
          }
        }
      ]
    }
  ]
}