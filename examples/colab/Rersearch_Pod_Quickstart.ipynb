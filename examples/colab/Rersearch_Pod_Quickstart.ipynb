{
  "nbformat": 4,
  "nbformat_minor": 0,
  "metadata": {
    "colab": {
      "name": "Rersearch Pod Quickstart.ipynb",
      "provenance": [],
      "authorship_tag": "ABX9TyNnrsO9T9xV3I0QCwUist3O",
      "include_colab_link": true
    },
    "kernelspec": {
      "name": "ir",
      "display_name": "R"
    }
  },
  "cells": [
    {
      "cell_type": "markdown",
      "metadata": {
        "id": "view-in-github",
        "colab_type": "text"
      },
      "source": [
        "<a href=\"https://colab.research.google.com/github/RWLab/rwRtools/blob/master/examples/colab/Rersearch_Pod_Quickstart.ipynb\" target=\"_parent\"><img src=\"https://colab.research.google.com/assets/colab-badge.svg\" alt=\"Open In Colab\"/></a>"
      ]
    },
    {
      "cell_type": "markdown",
      "metadata": {
        "id": "mi7tMoMx3Xmg"
      },
      "source": [
        "# Quickstart Guide - Setting up For Working on a Research Pod\n"
      ]
    },
    {
      "cell_type": "markdown",
      "metadata": {
        "id": "WsCHNy6k3hzA"
      },
      "source": [
        "## Install `rwRtools` and depedencies\n",
        "\n",
        "Simplest way is to use `pacman`:"
      ]
    },
    {
      "cell_type": "code",
      "metadata": {
        "id": "UFgIZelK3qUC",
        "outputId": "820ec795-3d57-4bc1-cf7d-460afd47ec21",
        "colab": {
          "base_uri": "https://localhost:8080/",
          "height": 170
        }
      },
      "source": [
        "if(!require(\"pacman\")) install.packages(\"pacman\")\n",
        "pacman::p_load_current_gh(\"RWLab/rwRtools\", dependencies = TRUE)"
      ],
      "execution_count": 2,
      "outputs": [
        {
          "output_type": "stream",
          "text": [
            "Loading required package: pacman\n",
            "\n"
          ],
          "name": "stderr"
        },
        {
          "output_type": "stream",
          "text": [
            "arrow        (NA -> 2.0.0 ) [CRAN]\n",
            "R.utils      (NA -> 2.10.1) [CRAN]\n",
            "googleClo... (NA -> 0.5.1 ) [CRAN]\n"
          ],
          "name": "stdout"
        },
        {
          "output_type": "stream",
          "text": [
            "Warning message in pacman::p_load_current_gh(\"RWLab/rwRtools\", dependencies = TRUE):\n",
            "“\n",
            "Failed to install/load:\n",
            "RWLab/rwRtools”\n"
          ],
          "name": "stderr"
        }
      ]
    },
    {
      "cell_type": "markdown",
      "metadata": {
        "id": "Wb5aTt9S3rPT"
      },
      "source": [
        "After installing and loading rwRtools, the quickest way to set up a session for working on a particular Research Pod is:\n",
        "\n",
        "### 1. Authorise data library"
      ]
    },
    {
      "cell_type": "code",
      "metadata": {
        "id": "eoKCLkZH368v",
        "outputId": "79f0646f-a2d4-4f3e-9333-76e2dc07402f",
        "colab": {
          "base_uri": "https://localhost:8080/",
          "height": 156
        }
      },
      "source": [
        "rwlab_data_auth(oauth_email = \"kris@robotwealth.com\")"
      ],
      "execution_count": null,
      "outputs": [
        {
          "output_type": "stream",
          "text": [
            "Please point your browser to the following url: \n",
            "\n",
            "https://accounts.google.com/o/oauth2/auth?client_id=603366585132-0l5tra7gl2i20iftqangp7iskte4f3s0.apps.googleusercontent.com&scope=https%3A%2F%2Fwww.googleapis.com%2Fauth%2Fcloud-platform%20https%3A%2F%2Fwww.googleapis.com%2Fauth%2Fuserinfo.email&redirect_uri=urn%3Aietf%3Awg%3Aoauth%3A2.0%3Aoob&response_type=code&login_hint=kris%40robotwealth.com\n",
            "\n"
          ],
          "name": "stderr"
        },
        {
          "output_type": "stream",
          "text": [
            "Enter authorization code: 4/1AfDhmriIO58AVxUgQ54dAzfMIabnemTRp39MX2ghBc3cPtNHvS7Y8ban-zA\n"
          ],
          "name": "stdout"
        },
        {
          "output_type": "stream",
          "text": [
            "\u001b[36mℹ\u001b[39m \u001b[90m\u001b[90m2020-10-27 02:34:30 >\u001b[90m\u001b[39m Setting client.id from options(googleAuthR.client_id)\n",
            "\n"
          ],
          "name": "stderr"
        }
      ]
    },
    {
      "cell_type": "markdown",
      "metadata": {
        "id": "8m85EuMlPouU"
      },
      "source": [
        "### 2. List The Lab's Research Pods"
      ]
    },
    {
      "cell_type": "code",
      "metadata": {
        "id": "NPp6YSFy4ABQ",
        "outputId": "4ef8c576-5d78-4b22-9556-405729864bda",
        "colab": {
          "base_uri": "https://localhost:8080/",
          "height": 34
        }
      },
      "source": [
        "list_pods()"
      ],
      "execution_count": null,
      "outputs": [
        {
          "output_type": "display_data",
          "data": {
            "text/plain": [
              "[1] \"EquityFactors\""
            ],
            "text/latex": "'EquityFactors'",
            "text/markdown": "'EquityFactors'",
            "text/html": [
              "'EquityFactors'"
            ]
          },
          "metadata": {
            "tags": []
          }
        }
      ]
    },
    {
      "cell_type": "markdown",
      "metadata": {
        "id": "4lKTaNT7Qgrk"
      },
      "source": [
        "### 3. Load essential Pod data\n",
        "\n",
        "This transfers price data from the data library to `path` and loads it into the Global Environment as the `prices` object. \n",
        "\n",
        "**IMPORTANT: It overwrites any object you might have in your Global Environment with that variable name, or locally at `path` with the Research Pod prices file name.**\n",
        "\n",
        "Requires that you have authorised to the data library prior."
      ]
    },
    {
      "cell_type": "code",
      "metadata": {
        "id": "u3itnzLsQlTb",
        "outputId": "a81663b6-eaf4-4ad7-b0bc-ac1a39dd057c",
        "colab": {
          "base_uri": "https://localhost:8080/",
          "height": 153
        }
      },
      "source": [
        "quickstart(pod = \"EquityFactors\", path = \".\")"
      ],
      "execution_count": null,
      "outputs": [
        {
          "output_type": "stream",
          "text": [
            "Set default bucket name to 'equity_factors_research_pod'\n",
            "\n"
          ],
          "name": "stderr"
        },
        {
          "output_type": "stream",
          "text": [
            "Attempting download of  R1000_ohlc_1d.feather ...\n",
            "Transferring R1000_ohlc_1d.feather ... data is 522.5 Mb please be patient...\n"
          ],
          "name": "stdout"
        },
        {
          "output_type": "stream",
          "text": [
            "2020-10-27 02:34:45 -- Saved R1000_ohlc_1d.feather to ./R1000_ohlc_1d.feather (522.5 Mb)\n",
            "\n"
          ],
          "name": "stderr"
        },
        {
          "output_type": "stream",
          "text": [
            "R1000_ohlc_1d.feather successfully transferred\n"
          ],
          "name": "stdout"
        },
        {
          "output_type": "display_data",
          "data": {
            "text/plain": [
              "[1] TRUE"
            ],
            "text/latex": "TRUE",
            "text/markdown": "TRUE",
            "text/html": [
              "TRUE"
            ]
          },
          "metadata": {
            "tags": []
          }
        }
      ]
    },
    {
      "cell_type": "markdown",
      "metadata": {
        "id": "bKxeLVnRQlBm"
      },
      "source": [
        "### 4. See all data objects associated with a Pod\n"
      ]
    },
    {
      "cell_type": "code",
      "metadata": {
        "id": "BKso5YeLQku9",
        "outputId": "cd161dc5-bfc0-48c2-b2bd-c83352e4b02d",
        "colab": {
          "base_uri": "https://localhost:8080/",
          "height": 147
        }
      },
      "source": [
        "get_pod_meta(pod = \"EquityFactors\")"
      ],
      "execution_count": null,
      "outputs": [
        {
          "output_type": "display_data",
          "data": {
            "text/plain": [
              "$bucket\n",
              "[1] \"equity_factors_research_pod\"\n",
              "\n",
              "$datasets\n",
              "[1] \"R1000_ohlc_1d.feather\"        \"R1000_fundamental_1d.feather\"\n",
              "\n",
              "$essentials\n",
              "[1] \"R1000_ohlc_1d.feather\"\n"
            ],
            "text/latex": "\\begin{description}\n\\item[\\$bucket] 'equity\\_factors\\_research\\_pod'\n\\item[\\$datasets] \\begin{enumerate*}\n\\item 'R1000\\_ohlc\\_1d.feather'\n\\item 'R1000\\_fundamental\\_1d.feather'\n\\end{enumerate*}\n\n\\item[\\$essentials] 'R1000\\_ohlc\\_1d.feather'\n\\end{description}\n",
            "text/markdown": "$bucket\n:   'equity_factors_research_pod'\n$datasets\n:   1. 'R1000_ohlc_1d.feather'\n2. 'R1000_fundamental_1d.feather'\n\n\n\n$essentials\n:   'R1000_ohlc_1d.feather'\n\n\n",
            "text/html": [
              "<dl>\n",
              "\t<dt>$bucket</dt>\n",
              "\t\t<dd>'equity_factors_research_pod'</dd>\n",
              "\t<dt>$datasets</dt>\n",
              "\t\t<dd><style>\n",
              ".list-inline {list-style: none; margin:0; padding: 0}\n",
              ".list-inline>li {display: inline-block}\n",
              ".list-inline>li:not(:last-child)::after {content: \"\\00b7\"; padding: 0 .5ex}\n",
              "</style>\n",
              "<ol class=list-inline><li>'R1000_ohlc_1d.feather'</li><li>'R1000_fundamental_1d.feather'</li></ol>\n",
              "</dd>\n",
              "\t<dt>$essentials</dt>\n",
              "\t\t<dd>'R1000_ohlc_1d.feather'</dd>\n",
              "</dl>\n"
            ]
          },
          "metadata": {
            "tags": []
          }
        }
      ]
    },
    {
      "cell_type": "markdown",
      "metadata": {
        "id": "o2Dax8GgQkTU"
      },
      "source": [
        "### 5. Load specific additional Pod data objects\n",
        "\n",
        "This transfers a specifc object to `path`, overwriting any existing local instance of that object. \n",
        "\n",
        "Requires that you've already authorised to the relevant GCS bucket."
      ]
    },
    {
      "cell_type": "code",
      "metadata": {
        "id": "1mBN8HOsQ5Qr",
        "outputId": "0c0afb6b-0807-42ba-dd3a-57de977aeffe",
        "colab": {
          "base_uri": "https://localhost:8080/",
          "height": 85
        }
      },
      "source": [
        "load_lab_object(pod = \"EquityFactors\", object = \"R1000_fundamentals_1d.feather\", path = \".\")"
      ],
      "execution_count": null,
      "outputs": [
        {
          "output_type": "stream",
          "text": [
            "2020-10-27 02:35:16 -- Saved R1000_fundamentals_1d.feather to ./R1000_fundamentals_1d.feather (495 Mb)\n",
            "\n"
          ],
          "name": "stderr"
        },
        {
          "output_type": "stream",
          "text": [
            "File successfully transferred\n"
          ],
          "name": "stdout"
        },
        {
          "output_type": "display_data",
          "data": {
            "text/plain": [
              "[1] TRUE"
            ],
            "text/latex": "TRUE",
            "text/markdown": "TRUE",
            "text/html": [
              "TRUE"
            ]
          },
          "metadata": {
            "tags": []
          }
        }
      ]
    },
    {
      "cell_type": "markdown",
      "metadata": {
        "id": "g9e2gy6s4Hss"
      },
      "source": [
        "## Verify that Research Pod objects have been transferred from cloud storage:"
      ]
    },
    {
      "cell_type": "code",
      "metadata": {
        "id": "8U8hhSsJ4A_y",
        "outputId": "43f83a3e-0572-495d-b746-2c9ccfb8c860",
        "colab": {
          "base_uri": "https://localhost:8080/",
          "height": 34
        }
      },
      "source": [
        "list.files()"
      ],
      "execution_count": null,
      "outputs": [
        {
          "output_type": "display_data",
          "data": {
            "text/plain": [
              "[1] \"R1000_fundamental_1d.feather\"  \"R1000_fundamentals_1d.feather\"\n",
              "[3] \"R1000_ohlc_1d.feather\"         \"sample_data\"                  "
            ],
            "text/latex": "\\begin{enumerate*}\n\\item 'R1000\\_fundamental\\_1d.feather'\n\\item 'R1000\\_fundamentals\\_1d.feather'\n\\item 'R1000\\_ohlc\\_1d.feather'\n\\item 'sample\\_data'\n\\end{enumerate*}\n",
            "text/markdown": "1. 'R1000_fundamental_1d.feather'\n2. 'R1000_fundamentals_1d.feather'\n3. 'R1000_ohlc_1d.feather'\n4. 'sample_data'\n\n\n",
            "text/html": [
              "<style>\n",
              ".list-inline {list-style: none; margin:0; padding: 0}\n",
              ".list-inline>li {display: inline-block}\n",
              ".list-inline>li:not(:last-child)::after {content: \"\\00b7\"; padding: 0 .5ex}\n",
              "</style>\n",
              "<ol class=list-inline><li>'R1000_fundamental_1d.feather'</li><li>'R1000_fundamentals_1d.feather'</li><li>'R1000_ohlc_1d.feather'</li><li>'sample_data'</li></ol>\n"
            ]
          },
          "metadata": {
            "tags": []
          }
        }
      ]
    },
    {
      "cell_type": "markdown",
      "metadata": {
        "id": "QOQlYix4frLo"
      },
      "source": [
        "## Read in data and take a look"
      ]
    },
    {
      "cell_type": "code",
      "metadata": {
        "id": "YswmbD-0fvfk",
        "outputId": "1b3d0da2-3b9d-4174-8690-c8cdfd9f318d",
        "colab": {
          "base_uri": "https://localhost:8080/",
          "height": 119
        }
      },
      "source": [
        "library(pacman)\n",
        "pacman::p_load(tidyverse, arrow)"
      ],
      "execution_count": null,
      "outputs": [
        {
          "output_type": "stream",
          "text": [
            "Installing package into ‘/usr/local/lib/R/site-library’\n",
            "(as ‘lib’ is unspecified)\n",
            "\n",
            "\n",
            "feather installed\n",
            "\n"
          ],
          "name": "stderr"
        }
      ]
    },
    {
      "cell_type": "code",
      "metadata": {
        "id": "2uQZ8BUPgMtT"
      },
      "source": [
        "df <- arrow::read_feather(\"R1000_ohlc_1d.feather\")"
      ],
      "execution_count": null,
      "outputs": []
    },
    {
      "cell_type": "code",
      "metadata": {
        "id": "cdLUfLEmhdiU",
        "outputId": "01147f01-668d-4915-fd25-1a04fb5628d0",
        "colab": {
          "base_uri": "https://localhost:8080/",
          "height": 204
        }
      },
      "source": [
        "df %>%\n",
        "  head()"
      ],
      "execution_count": null,
      "outputs": [
        {
          "output_type": "display_data",
          "data": {
            "text/plain": [
              "  ticker date       open     high     low      close    volume   is_universe\n",
              "1 A      1999-11-19 27.43740 27.47651 25.43891 25.91693 17595450 0          \n",
              "2 A      1999-11-22 26.39739 27.99938 25.59866 27.99938  7597422 0          \n",
              "3 A      1999-11-23 27.15702 27.87753 25.71929 25.71929  6901800 0          \n",
              "4 A      1999-11-24 25.64107 26.79841 25.55955 26.23765  5594038 0          \n",
              "5 A      1999-11-26 26.12031 26.51803 26.03879 26.31917  1997571 0          \n",
              "6 A      1999-11-29 26.19853 27.11790 25.91815 26.91904  4706426 0          "
            ],
            "text/latex": "A tibble: 6 × 8\n\\begin{tabular}{llllllll}\n ticker & date & open & high & low & close & volume & is\\_universe\\\\\n <chr> & <date> & <dbl> & <dbl> & <dbl> & <dbl> & <dbl> & <dbl>\\\\\n\\hline\n\t A & 1999-11-19 & 27.43740 & 27.47651 & 25.43891 & 25.91693 & 17595450 & 0\\\\\n\t A & 1999-11-22 & 26.39739 & 27.99938 & 25.59866 & 27.99938 &  7597422 & 0\\\\\n\t A & 1999-11-23 & 27.15702 & 27.87753 & 25.71929 & 25.71929 &  6901800 & 0\\\\\n\t A & 1999-11-24 & 25.64107 & 26.79841 & 25.55955 & 26.23765 &  5594038 & 0\\\\\n\t A & 1999-11-26 & 26.12031 & 26.51803 & 26.03879 & 26.31917 &  1997571 & 0\\\\\n\t A & 1999-11-29 & 26.19853 & 27.11790 & 25.91815 & 26.91904 &  4706426 & 0\\\\\n\\end{tabular}\n",
            "text/markdown": "\nA tibble: 6 × 8\n\n| ticker &lt;chr&gt; | date &lt;date&gt; | open &lt;dbl&gt; | high &lt;dbl&gt; | low &lt;dbl&gt; | close &lt;dbl&gt; | volume &lt;dbl&gt; | is_universe &lt;dbl&gt; |\n|---|---|---|---|---|---|---|---|\n| A | 1999-11-19 | 27.43740 | 27.47651 | 25.43891 | 25.91693 | 17595450 | 0 |\n| A | 1999-11-22 | 26.39739 | 27.99938 | 25.59866 | 27.99938 |  7597422 | 0 |\n| A | 1999-11-23 | 27.15702 | 27.87753 | 25.71929 | 25.71929 |  6901800 | 0 |\n| A | 1999-11-24 | 25.64107 | 26.79841 | 25.55955 | 26.23765 |  5594038 | 0 |\n| A | 1999-11-26 | 26.12031 | 26.51803 | 26.03879 | 26.31917 |  1997571 | 0 |\n| A | 1999-11-29 | 26.19853 | 27.11790 | 25.91815 | 26.91904 |  4706426 | 0 |\n\n",
            "text/html": [
              "<table>\n",
              "<caption>A tibble: 6 × 8</caption>\n",
              "<thead>\n",
              "\t<tr><th scope=col>ticker</th><th scope=col>date</th><th scope=col>open</th><th scope=col>high</th><th scope=col>low</th><th scope=col>close</th><th scope=col>volume</th><th scope=col>is_universe</th></tr>\n",
              "\t<tr><th scope=col>&lt;chr&gt;</th><th scope=col>&lt;date&gt;</th><th scope=col>&lt;dbl&gt;</th><th scope=col>&lt;dbl&gt;</th><th scope=col>&lt;dbl&gt;</th><th scope=col>&lt;dbl&gt;</th><th scope=col>&lt;dbl&gt;</th><th scope=col>&lt;dbl&gt;</th></tr>\n",
              "</thead>\n",
              "<tbody>\n",
              "\t<tr><td>A</td><td>1999-11-19</td><td>27.43740</td><td>27.47651</td><td>25.43891</td><td>25.91693</td><td>17595450</td><td>0</td></tr>\n",
              "\t<tr><td>A</td><td>1999-11-22</td><td>26.39739</td><td>27.99938</td><td>25.59866</td><td>27.99938</td><td> 7597422</td><td>0</td></tr>\n",
              "\t<tr><td>A</td><td>1999-11-23</td><td>27.15702</td><td>27.87753</td><td>25.71929</td><td>25.71929</td><td> 6901800</td><td>0</td></tr>\n",
              "\t<tr><td>A</td><td>1999-11-24</td><td>25.64107</td><td>26.79841</td><td>25.55955</td><td>26.23765</td><td> 5594038</td><td>0</td></tr>\n",
              "\t<tr><td>A</td><td>1999-11-26</td><td>26.12031</td><td>26.51803</td><td>26.03879</td><td>26.31917</td><td> 1997571</td><td>0</td></tr>\n",
              "\t<tr><td>A</td><td>1999-11-29</td><td>26.19853</td><td>27.11790</td><td>25.91815</td><td>26.91904</td><td> 4706426</td><td>0</td></tr>\n",
              "</tbody>\n",
              "</table>\n"
            ]
          },
          "metadata": {
            "tags": []
          }
        }
      ]
    },
    {
      "cell_type": "code",
      "metadata": {
        "id": "5JhnsSgz6oon"
      },
      "source": [
        ""
      ],
      "execution_count": null,
      "outputs": []
    }
  ]
}