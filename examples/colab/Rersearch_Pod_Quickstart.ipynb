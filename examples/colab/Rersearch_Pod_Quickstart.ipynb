{
  "nbformat": 4,
  "nbformat_minor": 0,
  "metadata": {
    "colab": {
      "name": "Rersearch Pod Quickstart.ipynb",
      "provenance": [],
      "authorship_tag": "ABX9TyP8AIok9Kk3MQzkfukKRrkt",
      "include_colab_link": true
    },
    "kernelspec": {
      "name": "ir",
      "display_name": "R"
    }
  },
  "cells": [
    {
      "cell_type": "markdown",
      "metadata": {
        "id": "view-in-github",
        "colab_type": "text"
      },
      "source": [
        "<a href=\"https://colab.research.google.com/github/RWLab/rwRtools/blob/master/examples/colab/Rersearch_Pod_Quickstart.ipynb\" target=\"_parent\"><img src=\"https://colab.research.google.com/assets/colab-badge.svg\" alt=\"Open In Colab\"/></a>"
      ]
    },
    {
      "cell_type": "markdown",
      "metadata": {
        "id": "mi7tMoMx3Xmg"
      },
      "source": [
        "# Quickstart Guide - Setting up For Working on a Research Pod\n"
      ]
    },
    {
      "cell_type": "markdown",
      "metadata": {
        "id": "WsCHNy6k3hzA"
      },
      "source": [
        "## Install `rwRtools` and depedencies\n",
        "\n",
        "Simplest way is to use `pacman`:"
      ]
    },
    {
      "cell_type": "code",
      "metadata": {
        "id": "UFgIZelK3qUC",
        "outputId": "c1237e5f-2fb3-417b-a950-85342f90abe6",
        "colab": {
          "base_uri": "https://localhost:8080/",
          "height": 408
        }
      },
      "source": [
        "if(!require(\"pacman\")) install.packages(\"pacman\")\n",
        "pacman::p_load_gh(\"RWLab/rwRtools\", dependencies = TRUE)"
      ],
      "execution_count": 1,
      "outputs": [
        {
          "output_type": "stream",
          "text": [
            "Loading required package: pacman\n",
            "\n",
            "Warning message in library(package, lib.loc = lib.loc, character.only = TRUE, logical.return = TRUE, :\n",
            "“there is no package called ‘pacman’”\n",
            "Installing package into ‘/usr/local/lib/R/site-library’\n",
            "(as ‘lib’ is unspecified)\n",
            "\n"
          ],
          "name": "stderr"
        },
        {
          "output_type": "stream",
          "text": [
            "callr        (3.5.0  -> 3.5.1 ) [CRAN]\n",
            "R.methodsS3  (NA     -> 1.8.1 ) [CRAN]\n",
            "gargle       (NA     -> 0.5.0 ) [CRAN]\n",
            "digest       (0.6.25 -> 0.6.27) [CRAN]\n",
            "R.oo         (NA     -> 1.24.0) [CRAN]\n",
            "zip          (NA     -> 2.1.1 ) [CRAN]\n",
            "googleAuthR  (NA     -> 1.3.0 ) [CRAN]\n",
            "R.utils      (NA     -> 2.10.1) [CRAN]\n",
            "googleClo... (NA     -> 0.5.1 ) [CRAN]\n",
            "\u001b[32m✔\u001b[39m  \u001b[90mchecking for file ‘/tmp/RtmpPUUz3p/remotes666b11f7fb/RWLab-rwRtools-587babf/DESCRIPTION’\u001b[39m\u001b[36m\u001b[39m\n",
            "\u001b[90m─\u001b[39m\u001b[90m  \u001b[39m\u001b[90mpreparing ‘rwRtools’:\u001b[39m\u001b[36m\u001b[39m\n",
            "\u001b[32m✔\u001b[39m  \u001b[90mchecking DESCRIPTION meta-information\u001b[39m\u001b[36m\u001b[39m\n",
            "\u001b[90m─\u001b[39m\u001b[90m  \u001b[39m\u001b[90mchecking for LF line-endings in source and make files and shell scripts\u001b[39m\u001b[36m\u001b[39m\n",
            "\u001b[90m─\u001b[39m\u001b[90m  \u001b[39m\u001b[90mchecking for empty or unneeded directories\u001b[39m\u001b[36m\u001b[39m\n",
            "\u001b[90m─\u001b[39m\u001b[90m  \u001b[39m\u001b[90mbuilding ‘rwRtools_0.0.0.9001.tar.gz’\u001b[39m\u001b[36m\u001b[39m\n",
            "   \n"
          ],
          "name": "stdout"
        }
      ]
    },
    {
      "cell_type": "markdown",
      "metadata": {
        "id": "Wb5aTt9S3rPT"
      },
      "source": [
        "After installing and loading rwRtools, the quickest way to set up a session for working on a particular Research Pod is:\n",
        "\n",
        "### 1. Authorise data library"
      ]
    },
    {
      "cell_type": "code",
      "metadata": {
        "id": "eoKCLkZH368v"
      },
      "source": [
        "rwlab_data_auth(oauth_email = \"kris@robotwealth.com\")"
      ],
      "execution_count": 6,
      "outputs": []
    },
    {
      "cell_type": "markdown",
      "metadata": {
        "id": "8m85EuMlPouU"
      },
      "source": [
        "### 2. List The Lab's Research Pods"
      ]
    },
    {
      "cell_type": "code",
      "metadata": {
        "id": "NPp6YSFy4ABQ",
        "outputId": "5d5e6b69-23e5-440a-901a-b4693306ae00",
        "colab": {
          "base_uri": "https://localhost:8080/",
          "height": 34
        }
      },
      "source": [
        "list_pods()"
      ],
      "execution_count": 7,
      "outputs": [
        {
          "output_type": "display_data",
          "data": {
            "text/plain": [
              "[1] \"EquityFactors\""
            ],
            "text/latex": "'EquityFactors'",
            "text/markdown": "'EquityFactors'",
            "text/html": [
              "'EquityFactors'"
            ]
          },
          "metadata": {
            "tags": []
          }
        }
      ]
    },
    {
      "cell_type": "markdown",
      "metadata": {
        "id": "4lKTaNT7Qgrk"
      },
      "source": [
        "### 3. Load essential Pod data\n",
        "\n",
        "This transfers the essential data that you always need to `path` (ohlc, metadata), overwriting any existing local Pod objects. \n",
        "\n",
        "Requires that you've already authorised to the relevant GCS bucket."
      ]
    },
    {
      "cell_type": "code",
      "metadata": {
        "id": "u3itnzLsQlTb",
        "outputId": "e1ca8c03-012f-4682-c479-1e0c41ea4ca5",
        "colab": {
          "base_uri": "https://localhost:8080/",
          "height": 153
        }
      },
      "source": [
        "load_pod_data(pod = \"EquityFactors\", path = \".\")"
      ],
      "execution_count": 8,
      "outputs": [
        {
          "output_type": "stream",
          "text": [
            "Set default bucket name to 'rw_equity_research_sprint'\n",
            "\n"
          ],
          "name": "stderr"
        },
        {
          "output_type": "stream",
          "text": [
            "Attempting download of  clean_R1000.csv ...\n",
            "Transferring clean_R1000.csv ... data is 874 Mb please be patient...\n"
          ],
          "name": "stdout"
        },
        {
          "output_type": "stream",
          "text": [
            "2020-10-26 23:33:40 -- Saved clean_R1000.csv to ./clean_R1000.csv (874 Mb)\n",
            "\n"
          ],
          "name": "stderr"
        },
        {
          "output_type": "stream",
          "text": [
            "clean_R1000.csv successfully transferred\n"
          ],
          "name": "stdout"
        },
        {
          "output_type": "display_data",
          "data": {
            "text/plain": [
              "[1] TRUE"
            ],
            "text/latex": "TRUE",
            "text/markdown": "TRUE",
            "text/html": [
              "TRUE"
            ]
          },
          "metadata": {
            "tags": []
          }
        }
      ]
    },
    {
      "cell_type": "markdown",
      "metadata": {
        "id": "bKxeLVnRQlBm"
      },
      "source": [
        "### 4. See all data objects associated with a Pod\n"
      ]
    },
    {
      "cell_type": "code",
      "metadata": {
        "id": "BKso5YeLQku9",
        "outputId": "1c0af8ae-d7b8-417c-e996-c4f9d9a2482c",
        "colab": {
          "base_uri": "https://localhost:8080/",
          "height": 147
        }
      },
      "source": [
        "get_pod_meta(pod = \"EquityFactors\")"
      ],
      "execution_count": 9,
      "outputs": [
        {
          "output_type": "display_data",
          "data": {
            "text/plain": [
              "$bucket\n",
              "[1] \"rw_equity_research_sprint\"\n",
              "\n",
              "$datasets\n",
              "[1] \"clean_R1000.csv\"  \"fundamentals.csv\"\n",
              "\n",
              "$essentials\n",
              "[1] \"clean_R1000.csv\"\n"
            ],
            "text/latex": "\\begin{description}\n\\item[\\$bucket] 'rw\\_equity\\_research\\_sprint'\n\\item[\\$datasets] \\begin{enumerate*}\n\\item 'clean\\_R1000.csv'\n\\item 'fundamentals.csv'\n\\end{enumerate*}\n\n\\item[\\$essentials] 'clean\\_R1000.csv'\n\\end{description}\n",
            "text/markdown": "$bucket\n:   'rw_equity_research_sprint'\n$datasets\n:   1. 'clean_R1000.csv'\n2. 'fundamentals.csv'\n\n\n\n$essentials\n:   'clean_R1000.csv'\n\n\n",
            "text/html": [
              "<dl>\n",
              "\t<dt>$bucket</dt>\n",
              "\t\t<dd>'rw_equity_research_sprint'</dd>\n",
              "\t<dt>$datasets</dt>\n",
              "\t\t<dd><style>\n",
              ".list-inline {list-style: none; margin:0; padding: 0}\n",
              ".list-inline>li {display: inline-block}\n",
              ".list-inline>li:not(:last-child)::after {content: \"\\00b7\"; padding: 0 .5ex}\n",
              "</style>\n",
              "<ol class=list-inline><li>'clean_R1000.csv'</li><li>'fundamentals.csv'</li></ol>\n",
              "</dd>\n",
              "\t<dt>$essentials</dt>\n",
              "\t\t<dd>'clean_R1000.csv'</dd>\n",
              "</dl>\n"
            ]
          },
          "metadata": {
            "tags": []
          }
        }
      ]
    },
    {
      "cell_type": "markdown",
      "metadata": {
        "id": "o2Dax8GgQkTU"
      },
      "source": [
        "### 5. Load specific additional Pod data objects\n",
        "\n",
        "This transfers a specifc object to `path`, overwriting any existing local instance of that object. \n",
        "\n",
        "Requires that you've already authorised to the relevant GCS bucket."
      ]
    },
    {
      "cell_type": "code",
      "metadata": {
        "id": "1mBN8HOsQ5Qr",
        "outputId": "7f4c5033-b6b2-428b-87ad-4346ab2f96c9",
        "colab": {
          "base_uri": "https://localhost:8080/",
          "height": 85
        }
      },
      "source": [
        "load_lab_object(path = \".\", pod = \"EquityFactors\", object = \"fundamentals.csv\")"
      ],
      "execution_count": 10,
      "outputs": [
        {
          "output_type": "stream",
          "text": [
            "2020-10-26 23:35:55 -- Saved fundamentals.csv to ./fundamentals.csv (360.6 Mb)\n",
            "\n"
          ],
          "name": "stderr"
        },
        {
          "output_type": "stream",
          "text": [
            "File successfully transferred\n"
          ],
          "name": "stdout"
        },
        {
          "output_type": "display_data",
          "data": {
            "text/plain": [
              "[1] TRUE"
            ],
            "text/latex": "TRUE",
            "text/markdown": "TRUE",
            "text/html": [
              "TRUE"
            ]
          },
          "metadata": {
            "tags": []
          }
        }
      ]
    },
    {
      "cell_type": "markdown",
      "metadata": {
        "id": "g9e2gy6s4Hss"
      },
      "source": [
        "## Verify that Research Pod objects have been transferred from cloud storage:"
      ]
    },
    {
      "cell_type": "code",
      "metadata": {
        "id": "8U8hhSsJ4A_y",
        "outputId": "fa5c2804-b133-4289-8f59-85ce87527c85",
        "colab": {
          "base_uri": "https://localhost:8080/",
          "height": 34
        }
      },
      "source": [
        "list.files()"
      ],
      "execution_count": 11,
      "outputs": [
        {
          "output_type": "display_data",
          "data": {
            "text/plain": [
              "[1] \"clean_R1000.csv\"  \"fundamentals.csv\" \"sample_data\"     "
            ],
            "text/latex": "\\begin{enumerate*}\n\\item 'clean\\_R1000.csv'\n\\item 'fundamentals.csv'\n\\item 'sample\\_data'\n\\end{enumerate*}\n",
            "text/markdown": "1. 'clean_R1000.csv'\n2. 'fundamentals.csv'\n3. 'sample_data'\n\n\n",
            "text/html": [
              "<style>\n",
              ".list-inline {list-style: none; margin:0; padding: 0}\n",
              ".list-inline>li {display: inline-block}\n",
              ".list-inline>li:not(:last-child)::after {content: \"\\00b7\"; padding: 0 .5ex}\n",
              "</style>\n",
              "<ol class=list-inline><li>'clean_R1000.csv'</li><li>'fundamentals.csv'</li><li>'sample_data'</li></ol>\n"
            ]
          },
          "metadata": {
            "tags": []
          }
        }
      ]
    }
  ]
}